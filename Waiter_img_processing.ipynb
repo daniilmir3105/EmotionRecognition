{
 "cells": [
  {
   "cell_type": "code",
   "execution_count": null,
   "id": "c0487de2",
   "metadata": {
    "ExecuteTime": {
     "end_time": "2023-09-28T10:16:05.478059800Z",
     "start_time": "2023-09-28T10:15:58.156225400Z"
    }
   },
   "outputs": [],
   "source": [
    "# load libs\n",
    "from tensorflow.keras.models import model_from_json\n",
    "import cv2\n",
    "import matplotlib.pyplot as plt\n",
    "import numpy as np"
   ]
  },
  {
   "cell_type": "code",
   "execution_count": null,
   "id": "62e81a87",
   "metadata": {
    "ExecuteTime": {
     "end_time": "2023-09-18T10:06:23.612771200Z",
     "start_time": "2023-09-18T10:06:21.151388400Z"
    }
   },
   "outputs": [],
   "source": [
    "# load model\n",
    "model_class_filename = './_models/emotion_classification/model.json'\n",
    "weights_filename = './_models/emotion_classification/saved_weights'\n",
    "\n",
    "# read json and create model\n",
    "with open(model_class_filename, 'r') as json_file:\n",
    "    loaded_model_class_json = json_file.read()\n",
    "model_class = model_from_json(loaded_model_class_json)\n",
    "\n",
    "# load weights into new model\n",
    "model_class.load_weights(weights_filename)"
   ]
  },
  {
   "cell_type": "code",
   "execution_count": null,
   "id": "052c0fd6",
   "metadata": {
    "ExecuteTime": {
     "end_time": "2023-09-18T10:06:23.801409600Z",
     "start_time": "2023-09-18T10:06:23.605774Z"
    }
   },
   "outputs": [],
   "source": [
    "# load face for prediction\n",
    "img = cv2.imread('./test_foto/waiter.jpg')[0:600, 200:800]\n",
    "img = cv2.resize(img, (224, 224))\n",
    "plt.imshow(img)"
   ]
  },
  {
   "cell_type": "code",
   "execution_count": null,
   "id": "f3baef57",
   "metadata": {
    "ExecuteTime": {
     "end_time": "2023-09-18T10:06:23.999454400Z",
     "start_time": "2023-09-18T10:06:23.793407900Z"
    }
   },
   "outputs": [],
   "source": [
    "# making prediction\n",
    "num_emotion = np.argmax(model_class(np.expand_dims(img, 0)))\n",
    "emotions = ['Anger', 'Contempt',\n",
    "                    'Disgust', 'Fear',\n",
    "                    'Happy', 'Neutral',\n",
    "                    'Sad', 'Surprise', 'Uncertain']\n",
    "emotion = emotions[num_emotion]"
   ]
  },
  {
   "cell_type": "code",
   "execution_count": null,
   "id": "3b5f9f11",
   "metadata": {
    "ExecuteTime": {
     "end_time": "2023-09-18T10:06:24.407674600Z",
     "start_time": "2023-09-18T10:06:24.003458100Z"
    }
   },
   "outputs": [],
   "source": [
    "# output img:\n",
    "# base:\n",
    "img = cv2.imread('./test_foto/waiter.jpg')\n",
    "\n",
    "# rectangle\n",
    "cv2.rectangle(img, (200, 50), (800, 600), (0, 255, 0), thickness=3)\n",
    "\n",
    "# settings\n",
    "label_org=(200, 48)\n",
    "font_name = cv2.FONT_HERSHEY_SIMPLEX\n",
    "font_scale = 1.5\n",
    "font_thickness = 2\n",
    "font_line_type = cv2.LINE_AA\n",
    "font_color = (100, 100, 100)\n",
    "    \n",
    "# caption\n",
    "cv2.putText(img,\n",
    "            text=emotion,\n",
    "            org=label_org,\n",
    "            fontFace=font_name,\n",
    "            fontScale=font_scale,\n",
    "            color=font_color,\n",
    "            thickness=font_thickness,\n",
    "            lineType=font_line_type)\n",
    "plt.figure(figsize=(10, 20))\n",
    "output = plt.imshow(img)\n",
    "output"
   ]
  }
 ],
 "metadata": {
  "kernelspec": {
   "display_name": "Python 3 (ipykernel)",
   "language": "python",
   "name": "python3"
  },
  "language_info": {
   "codemirror_mode": {
    "name": "ipython",
    "version": 3
   },
   "file_extension": ".py",
   "mimetype": "text/x-python",
   "name": "python",
   "nbconvert_exporter": "python",
   "pygments_lexer": "ipython3",
   "version": "3.11.4"
  },
  "toc": {
   "base_numbering": 1,
   "nav_menu": {},
   "number_sections": true,
   "sideBar": true,
   "skip_h1_title": false,
   "title_cell": "Table of Contents",
   "title_sidebar": "Contents",
   "toc_cell": false,
   "toc_position": {},
   "toc_section_display": true,
   "toc_window_display": false
  },
  "varInspector": {
   "cols": {
    "lenName": 16,
    "lenType": 16,
    "lenVar": 40
   },
   "kernels_config": {
    "python": {
     "delete_cmd_postfix": "",
     "delete_cmd_prefix": "del ",
     "library": "var_list.py",
     "varRefreshCmd": "print(var_dic_list())"
    },
    "r": {
     "delete_cmd_postfix": ") ",
     "delete_cmd_prefix": "rm(",
     "library": "var_list.r",
     "varRefreshCmd": "cat(var_dic_list()) "
    }
   },
   "types_to_exclude": [
    "module",
    "function",
    "builtin_function_or_method",
    "instance",
    "_Feature"
   ],
   "window_display": false
  }
 },
 "nbformat": 4,
 "nbformat_minor": 5
}
