{
 "cells": [
  {
   "cell_type": "markdown",
   "id": "91f376a3",
   "metadata": {},
   "source": [
    "# Regression model loading"
   ]
  },
  {
   "cell_type": "code",
   "execution_count": 9,
   "id": "6f55641c",
   "metadata": {},
   "outputs": [
    {
     "data": {
      "text/plain": [
       "<tensorflow.python.training.tracking.util.CheckpointLoadStatus at 0x14dca646c48>"
      ]
     },
     "execution_count": 9,
     "metadata": {},
     "output_type": "execute_result"
    }
   ],
   "source": [
    "from tensorflow.keras.models import model_from_json\n",
    "import numpy as np\n",
    "\n",
    "with open(\"./_models/valence_arousal_decomposition/model.json\", 'r') as json_file:\n",
    "    loaded_model_json = json_file.read()\n",
    "model = model_from_json(loaded_model_json)\n",
    "model.load_weights(\"./_models/valence_arousal_decomposition/saved_weights\")"
   ]
  },
  {
   "cell_type": "markdown",
   "id": "fb859cf6",
   "metadata": {},
   "source": [
    "# Set up emotion values"
   ]
  },
  {
   "cell_type": "code",
   "execution_count": 10,
   "id": "a6c430cb",
   "metadata": {},
   "outputs": [],
   "source": [
    "VA_emotions = {\n",
    "    'anger':    [ 1.5, 6.72],   # гнев\n",
    "    'contempt': [ 1.5, 3.75],   # презрение\n",
    "    'disgust':  [ 3.5,  2.5],   # отвращение\n",
    "    'fear':     [ 2.0,  6.2],   # страх\n",
    "    'happy':    [ 6.6,  4.2],   # радость\n",
    "    'neutral':  [ 4.0,  4.0],   # безразличие\n",
    "    'sad':      [ 1.5,  1.5],   # грусть\n",
    "    'surprise': [ 6.0,  6.0],   # удивление\n",
    "    'uncertain':[ 3.0,  4.0]    # неопределенность\n",
    "}"
   ]
  },
  {
   "cell_type": "markdown",
   "id": "e1f099dd",
   "metadata": {},
   "source": [
    "# Prediction for each file in test dataset"
   ]
  },
  {
   "cell_type": "code",
   "execution_count": 11,
   "id": "2aab0f21",
   "metadata": {},
   "outputs": [],
   "source": [
    "import os, glob, pandas as pd\n",
    "from scipy import spatial\n",
    "\n",
    "filenames, emotions = [], []\n",
    "\n",
    "# I use K-dimensional Tree from scipy to find closest emotion vector for model prediction\n",
    "emotions_vectors = spatial.KDTree(list(VA_emotions.values()))\n",
    "\n",
    "from PIL import Image\n",
    "for filename in glob.glob('./_datasets/test_dataset/*.jpg'):\n",
    "  with open(filename, 'r') as f:\n",
    "    img = Image.open(filename)\n",
    "    img = img.resize((224,224))\n",
    "    img = np.array(img)\n",
    "    img = np.expand_dims(img, 0)\n",
    "    prediction = model.predict(img)\n",
    "    emotion_number = int(emotions_vectors.query(prediction)[1])\n",
    "    emotion_name = list(VA_emotions.keys())[emotion_number]\n",
    "    filenames.append(filename)\n",
    "    emotions.append(emotion_name)"
   ]
  },
  {
   "cell_type": "markdown",
   "id": "92289c4a",
   "metadata": {},
   "source": [
    "# Create dataframe"
   ]
  },
  {
   "cell_type": "code",
   "execution_count": 12,
   "id": "c642a623",
   "metadata": {},
   "outputs": [
    {
     "data": {
      "text/html": [
       "<div>\n",
       "<style scoped>\n",
       "    .dataframe tbody tr th:only-of-type {\n",
       "        vertical-align: middle;\n",
       "    }\n",
       "\n",
       "    .dataframe tbody tr th {\n",
       "        vertical-align: top;\n",
       "    }\n",
       "\n",
       "    .dataframe thead th {\n",
       "        text-align: right;\n",
       "    }\n",
       "</style>\n",
       "<table border=\"1\" class=\"dataframe\">\n",
       "  <thead>\n",
       "    <tr style=\"text-align: right;\">\n",
       "      <th></th>\n",
       "      <th>image_path</th>\n",
       "      <th>emotion</th>\n",
       "    </tr>\n",
       "  </thead>\n",
       "  <tbody>\n",
       "    <tr>\n",
       "      <th>0</th>\n",
       "      <td>0.jpg</td>\n",
       "      <td>contempt</td>\n",
       "    </tr>\n",
       "    <tr>\n",
       "      <th>1</th>\n",
       "      <td>1.jpg</td>\n",
       "      <td>neutral</td>\n",
       "    </tr>\n",
       "    <tr>\n",
       "      <th>2</th>\n",
       "      <td>10.jpg</td>\n",
       "      <td>uncertain</td>\n",
       "    </tr>\n",
       "    <tr>\n",
       "      <th>3</th>\n",
       "      <td>100.jpg</td>\n",
       "      <td>neutral</td>\n",
       "    </tr>\n",
       "    <tr>\n",
       "      <th>4</th>\n",
       "      <td>1000.jpg</td>\n",
       "      <td>happy</td>\n",
       "    </tr>\n",
       "  </tbody>\n",
       "</table>\n",
       "</div>"
      ],
      "text/plain": [
       "  image_path    emotion\n",
       "0      0.jpg   contempt\n",
       "1      1.jpg    neutral\n",
       "2     10.jpg  uncertain\n",
       "3    100.jpg    neutral\n",
       "4   1000.jpg      happy"
      ]
     },
     "execution_count": 12,
     "metadata": {},
     "output_type": "execute_result"
    }
   ],
   "source": [
    "data = {'image_path': filenames, 'emotion': emotions}\n",
    "df = pd.DataFrame(data)\n",
    "df['image_path'] = df['image_path'].apply(lambda x: x[25:])\n",
    "df.head()"
   ]
  },
  {
   "cell_type": "markdown",
   "id": "e3a40b10",
   "metadata": {},
   "source": [
    "# Save submission file"
   ]
  },
  {
   "cell_type": "code",
   "execution_count": 13,
   "id": "44f04510",
   "metadata": {},
   "outputs": [],
   "source": [
    "df.to_csv('VA_submission.csv', index=False)"
   ]
  }
 ],
 "metadata": {
  "kernelspec": {
   "display_name": "Python 3",
   "language": "python",
   "name": "python3"
  },
  "language_info": {
   "codemirror_mode": {
    "name": "ipython",
    "version": 3
   },
   "file_extension": ".py",
   "mimetype": "text/x-python",
   "name": "python",
   "nbconvert_exporter": "python",
   "pygments_lexer": "ipython3",
   "version": "3.7.10"
  },
  "toc": {
   "base_numbering": 1,
   "nav_menu": {},
   "number_sections": true,
   "sideBar": true,
   "skip_h1_title": false,
   "title_cell": "Table of Contents",
   "title_sidebar": "Contents",
   "toc_cell": false,
   "toc_position": {},
   "toc_section_display": true,
   "toc_window_display": false
  },
  "varInspector": {
   "cols": {
    "lenName": 16,
    "lenType": 16,
    "lenVar": 40
   },
   "kernels_config": {
    "python": {
     "delete_cmd_postfix": "",
     "delete_cmd_prefix": "del ",
     "library": "var_list.py",
     "varRefreshCmd": "print(var_dic_list())"
    },
    "r": {
     "delete_cmd_postfix": ") ",
     "delete_cmd_prefix": "rm(",
     "library": "var_list.r",
     "varRefreshCmd": "cat(var_dic_list()) "
    }
   },
   "types_to_exclude": [
    "module",
    "function",
    "builtin_function_or_method",
    "instance",
    "_Feature"
   ],
   "window_display": false
  }
 },
 "nbformat": 4,
 "nbformat_minor": 5
}
